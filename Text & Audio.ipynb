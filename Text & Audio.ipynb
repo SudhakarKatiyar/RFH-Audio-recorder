{
 "cells": [
  {
   "cell_type": "markdown",
   "id": "2a1ad569",
   "metadata": {},
   "source": [
    "# 1.1 Python code to get Audio file directly from YouTube_Playlist link \n"
   ]
  },
  {
   "cell_type": "code",
   "execution_count": 1,
   "id": "adf63315",
   "metadata": {},
   "outputs": [],
   "source": [
    "import os\n",
    "import re\n",
    "from pytube import Playlist\n",
    "from pytube import YouTube\n",
    "from youtube_transcript_api import YouTubeTranscriptApi\n",
    "from pytube import Channel\n",
    "from pydub import AudioSegment\n",
    "import json\n",
    "import pandas as pd"
   ]
  },
  {
   "cell_type": "code",
   "execution_count": 2,
   "id": "78bf15b7",
   "metadata": {},
   "outputs": [],
   "source": [
    "playlist = Playlist('https://www.youtube.com/playlist?list=PLO2O9UjkQxLdd6_9txcqDm2nkoGIeDZAP')    #enter here"
   ]
  },
  {
   "cell_type": "code",
   "execution_count": 26,
   "id": "e6205fdc",
   "metadata": {
    "scrolled": false
   },
   "outputs": [
    {
     "name": "stdout",
     "output_type": "stream",
     "text": [
      "21\n",
      "https://www.youtube.com/watch?v=z1CqFWBV4B8\n",
      "https://www.youtube.com/watch?v=kDItNCpM7UI\n",
      "https://www.youtube.com/watch?v=TDgD2ZE7_S4\n",
      "https://www.youtube.com/watch?v=rQsfhSbK53s\n",
      "https://www.youtube.com/watch?v=0BIfUQNn0zE\n",
      "https://www.youtube.com/watch?v=REx1t1vSb4s\n",
      "https://www.youtube.com/watch?v=4OnLRa7uxuM\n",
      "https://www.youtube.com/watch?v=jWGkUpJ45CY\n",
      "https://www.youtube.com/watch?v=OMMFVdDclMc\n",
      "https://www.youtube.com/watch?v=tOXZO_CwB0g\n",
      "https://www.youtube.com/watch?v=4PfYqWiV0w0\n",
      "https://www.youtube.com/watch?v=yavhcGGxB5E\n",
      "https://www.youtube.com/watch?v=FZMFQKCBx64\n",
      "https://www.youtube.com/watch?v=q7iu-w_4kn4\n",
      "https://www.youtube.com/watch?v=OV4nY5qMaQc\n",
      "https://www.youtube.com/watch?v=KPCKxwRaWoY\n",
      "https://www.youtube.com/watch?v=uIk5I86FJN0\n",
      "https://www.youtube.com/watch?v=Znz9iDla3h4\n",
      "https://www.youtube.com/watch?v=EcVD9ku8n3A\n",
      "https://www.youtube.com/watch?v=Wfr_dABRkA8\n",
      "https://www.youtube.com/watch?v=-iDe0-t8_F0\n",
      "Download Completed!\n",
      "Download Completed!\n",
      "Download Completed!\n",
      "Download Completed!\n",
      "Download Completed!\n",
      "Download Completed!\n",
      "Download Completed!\n",
      "Download Completed!\n",
      "Download Completed!\n",
      "Download Completed!\n",
      "Download Completed!\n",
      "Download Completed!\n",
      "Download Completed!\n",
      "Download Completed!\n",
      "Download Completed!\n",
      "Download Completed!\n",
      "Download Completed!\n",
      "Download Completed!\n",
      "Download Completed!\n",
      "Download Completed!\n",
      "Download Completed!\n"
     ]
    }
   ],
   "source": [
    "# Destination to store the dowload file  \n",
    "#destination = \"C:\\Speech2Text\\YouTube Video link_to_Audio file conversion\"\n",
    "\n",
    "\n",
    "#playlist._video_regex = re.compile(r\"\\\"url\\\":\\\"(/watch\\?v=[\\w-]*)\")\n",
    "\n",
    "print(len(playlist.video_urls))\n",
    "\n",
    "#prints each video url, which is the same as iterating through playlist.video_urls\n",
    "for url in playlist:\n",
    "    print(url)\n",
    "    \n",
    "#prints address of each YouTube object in the playlist\n",
    "#for vid in playlist.videos:\n",
    "    #print(vid)\n",
    "\n",
    "for url in playlist:\n",
    "    try:\n",
    "        video = YouTube(url)\n",
    "        # filtering the audio. File extension can be mp4/webm\n",
    "        # You can see all the available streams by print(video.streams)\n",
    "        audio = video.streams.filter(only_audio=True, file_extension='mp4').first()\n",
    "        #base, ext = os.path.splitext(audio) \n",
    "        #new_audio = base + '.wav'\n",
    "        #os.rename(audio, new_audio)\n",
    "        #new_audio.download()\n",
    "        \n",
    "        audio.download()\n",
    "        print('Download Completed!')\n",
    "\n",
    "    except:\n",
    "        print(\"Connection Error\")  # to handle exception"
   ]
  },
  {
   "cell_type": "markdown",
   "id": "345baef2",
   "metadata": {},
   "source": [
    "# 1.2 Python code to get Title of YouTube video"
   ]
  },
  {
   "cell_type": "code",
   "execution_count": 3,
   "id": "49749479",
   "metadata": {},
   "outputs": [
    {
     "name": "stdout",
     "output_type": "stream",
     "text": [
      "['Oxytocin - The Love Hormone (Fun Discussion) with Dr. Najeeb', 'Renin Angiotensin Aldosterone System - RAAS', 'Autonomic Nervous System - Neuroanatomy', 'Thyroid Hormones Synthesis - Thyroid Gland', 'Renin Angiotensin Aldosterone System 2/7', 'Insulin - Synthesis and Secretion - Part 2/4', 'Elisa Test - Direct, Indirect & Sandwich', 'Renin Angiotensin Aldosterone System 3/7', 'Renin Angiotensin Aldosterone System 4/7', 'Renin Angiotensin Aldosterone System 5/7', 'Receptors & Intra-cellular Signalling - Made Easy', 'Insulin - Synthesis and Secretion - Part 3/4', 'Renin Angiotensin Aldosterone System 6/7', 'Renin Angiotensin Aldosterone System 7/7', 'Transcription Factors & Promoter Region.', 'Insulin Signal Transduction Pathway', 'ADH (Vasopressin) - Posterior Pituitary Gland', 'Apoptosis - Programmed Cell Death (Definition)', 'Role of Insulin in Lipogenesis and Fat Storage', 'Insulin Receptors & Signal Transduction Pathways', 'Lipolysis & Ketogenesis in severe Insulin Deficiency.']\n"
     ]
    }
   ],
   "source": [
    "video_links = playlist.video_urls\n",
    "\n",
    "video_titles = []\n",
    "for link in video_links:\n",
    "    video_titles.append(YouTube(link).title)\n",
    "    print(YouTube(link).title)\n",
    "\n",
    "print(video_titles)"
   ]
  },
  {
   "cell_type": "markdown",
   "id": "17d28c57",
   "metadata": {},
   "source": [
    "# 2.1 Python code to download YouTube video subtitle"
   ]
  },
  {
   "cell_type": "code",
   "execution_count": 4,
   "id": "dd50bdee",
   "metadata": {
    "scrolled": true
   },
   "outputs": [
    {
     "name": "stdout",
     "output_type": "stream",
     "text": [
      "<pytube.__main__.YouTube object: videoId=z1CqFWBV4B8>\n",
      "<pytube.__main__.YouTube object: videoId=kDItNCpM7UI>\n",
      "<pytube.__main__.YouTube object: videoId=TDgD2ZE7_S4>\n",
      "<pytube.__main__.YouTube object: videoId=rQsfhSbK53s>\n",
      "<pytube.__main__.YouTube object: videoId=0BIfUQNn0zE>\n",
      "<pytube.__main__.YouTube object: videoId=REx1t1vSb4s>\n",
      "<pytube.__main__.YouTube object: videoId=4OnLRa7uxuM>\n",
      "<pytube.__main__.YouTube object: videoId=jWGkUpJ45CY>\n",
      "<pytube.__main__.YouTube object: videoId=OMMFVdDclMc>\n",
      "<pytube.__main__.YouTube object: videoId=tOXZO_CwB0g>\n",
      "<pytube.__main__.YouTube object: videoId=4PfYqWiV0w0>\n",
      "<pytube.__main__.YouTube object: videoId=yavhcGGxB5E>\n",
      "<pytube.__main__.YouTube object: videoId=FZMFQKCBx64>\n",
      "<pytube.__main__.YouTube object: videoId=q7iu-w_4kn4>\n",
      "<pytube.__main__.YouTube object: videoId=OV4nY5qMaQc>\n",
      "<pytube.__main__.YouTube object: videoId=KPCKxwRaWoY>\n",
      "<pytube.__main__.YouTube object: videoId=uIk5I86FJN0>\n",
      "<pytube.__main__.YouTube object: videoId=Znz9iDla3h4>\n",
      "<pytube.__main__.YouTube object: videoId=EcVD9ku8n3A>\n",
      "<pytube.__main__.YouTube object: videoId=Wfr_dABRkA8>\n",
      "<pytube.__main__.YouTube object: videoId=-iDe0-t8_F0>\n"
     ]
    }
   ],
   "source": [
    "def generate_transcript(id):\n",
    "    transcript = YouTubeTranscriptApi.get_transcript(id)\n",
    "    script = \"\"\n",
    "\n",
    "    for text in transcript:\n",
    "        t = text[\"text\"]\n",
    "        if t != '[Music]':\n",
    "            script += t + \" \"\n",
    "\n",
    "    return script, len(script.split())\n",
    "# for playlist\n",
    "#playlist = Playlist('https://www.youtube.com/playlist?list=PLLywMQWaFPRT2KXKIJEGH-8qnTNs6s8le')\n",
    "#id_list = []\n",
    "for id in playlist.videos:\n",
    "    print(id)\n",
    "    #id_list.append(id)\n",
    "#print(id_list)"
   ]
  },
  {
   "cell_type": "code",
   "execution_count": 5,
   "id": "dd11e450",
   "metadata": {},
   "outputs": [
    {
     "name": "stdout",
     "output_type": "stream",
     "text": [
      "['z1CqFWBV4B8', 'kDItNCpM7UI', 'TDgD2ZE7_S4', 'rQsfhSbK53s', '0BIfUQNn0zE', 'REx1t1vSb4s', '4OnLRa7uxuM', 'jWGkUpJ45CY', 'OMMFVdDclMc', 'tOXZO_CwB0g', '4PfYqWiV0w0', 'yavhcGGxB5E', 'FZMFQKCBx64', 'q7iu-w_4kn4', 'OV4nY5qMaQc', 'KPCKxwRaWoY', 'uIk5I86FJN0', 'Znz9iDla3h4', 'EcVD9ku8n3A', 'Wfr_dABRkA8', '-iDe0-t8_F0']\n"
     ]
    }
   ],
   "source": [
    "df = pd.read_excel('VideoID.xlsx') # can also index sheet by name or fetch all sheets\n",
    "VideoId_list = df['VideoId'].tolist()\n",
    "print(VideoId_list)"
   ]
  },
  {
   "cell_type": "code",
   "execution_count": 30,
   "id": "2e7dd84d",
   "metadata": {},
   "outputs": [
    {
     "name": "stdout",
     "output_type": "stream",
     "text": [
      "Download Completed!\n",
      "Download Completed!\n",
      "Download Completed!\n",
      "Download Completed!\n",
      "TranscriptsDisabled\n",
      "TranscriptsDisabled\n",
      "Download Completed!\n",
      "TranscriptsDisabled\n",
      "TranscriptsDisabled\n",
      "TranscriptsDisabled\n",
      "Download Completed!\n",
      "TranscriptsDisabled\n",
      "TranscriptsDisabled\n",
      "TranscriptsDisabled\n",
      "Download Completed!\n",
      "Download Completed!\n",
      "Download Completed!\n",
      "Download Completed!\n",
      "TranscriptsDisabled\n",
      "Download Completed!\n",
      "Download Completed!\n"
     ]
    }
   ],
   "source": [
    "for i in range(0, len(VideoId_list)):\n",
    "    id = (VideoId_list[i])\n",
    "    try:\n",
    "        srt = YouTubeTranscriptApi.get_transcript(id)    #enetr here\n",
    "        mypath = (video_titles[i]) \n",
    "        if not os.path.isdir(mypath):\n",
    "            os.makedirs(mypath)\n",
    "        with open(os.path.join(mypath,(video_titles[i])+ '.txt'), \"w\") as f:\n",
    "            for i in srt:\n",
    "                f.write(\"{}\\n\".format(i))\n",
    "        print('Download Completed!')\n",
    "    except:\n",
    "        print(\"TranscriptsDisabled\")\n",
    "        "
   ]
  },
  {
   "cell_type": "raw",
   "id": "e5ab4f53",
   "metadata": {},
   "source": [
    "mypath = Textfile_name\n",
    "if not os.path.isdir(mypath):\n",
    "    os.makedirs(mypath)\n",
    "    \n",
    "for id in playlist.videos:\n",
    "    srt = YouTubeTranscriptApi.get_transcript(\"c6woCWGjAqk\")    #enetr here\n",
    "    with open(os.path.join(mypath,Textfile_name+ '.txt'), \"w\") as f:\n",
    "        for i in srt:\n",
    "            f.write(\"{}\\n\".format(i))"
   ]
  },
  {
   "cell_type": "markdown",
   "id": "689be2b5",
   "metadata": {},
   "source": [
    "# 2.2 Python code to generate text file for each single sentence"
   ]
  },
  {
   "cell_type": "code",
   "execution_count": 31,
   "id": "d425a592",
   "metadata": {},
   "outputs": [
    {
     "name": "stdout",
     "output_type": "stream",
     "text": [
      "Sentence wise text file Created!\n",
      "Sentence wise text file Created!\n",
      "Sentence wise text file Created!\n",
      "Sentence wise text file Created!\n",
      "TranscriptsDisabled\n",
      "TranscriptsDisabled\n",
      "Sentence wise text file Created!\n",
      "TranscriptsDisabled\n",
      "TranscriptsDisabled\n",
      "TranscriptsDisabled\n",
      "Sentence wise text file Created!\n",
      "TranscriptsDisabled\n",
      "TranscriptsDisabled\n",
      "TranscriptsDisabled\n",
      "Sentence wise text file Created!\n",
      "Sentence wise text file Created!\n",
      "Sentence wise text file Created!\n",
      "Sentence wise text file Created!\n",
      "TranscriptsDisabled\n",
      "Sentence wise text file Created!\n",
      "Sentence wise text file Created!\n"
     ]
    }
   ],
   "source": [
    "for i in range(0, len(VideoId_list)):\n",
    "    id = (VideoId_list[i])\n",
    "    a = []\n",
    "    #for i in range(0,len(video_titles)):\n",
    "    try:\n",
    "        srt = YouTubeTranscriptApi.get_transcript(id)    #enetr here\n",
    "        mypath = (video_titles[i]) \n",
    "        Textfile_name = (video_titles[i])\n",
    "        if not os.path.isdir(mypath):\n",
    "            os.makedirs(mypath)\n",
    "        with open(os.path.join(mypath,(video_titles[i])+ '.txt'), 'r') as text:\n",
    "            for i in srt:\n",
    "                for newtext in text:\n",
    "                    a.append(eval(newtext[:-1]))\n",
    "            for j in range(0,len(a)):\n",
    "                f = open(os.path.join(mypath,Textfile_name + '%s.txt'%j), \"a\")            \n",
    "                f.writelines([a[j][\"text\"]])\n",
    "                f.close()\n",
    "        print('Sentence wise text file Created!')\n",
    "    except:\n",
    "        print(\"TranscriptsDisabled\")\n"
   ]
  },
  {
   "cell_type": "markdown",
   "id": "e94387ab",
   "metadata": {},
   "source": [
    "# 3. Python code to split audio for each sentence in text file"
   ]
  },
  {
   "cell_type": "code",
   "execution_count": 8,
   "id": "3bbc31ea",
   "metadata": {},
   "outputs": [
    {
     "name": "stdout",
     "output_type": "stream",
     "text": [
      "TranscriptsDisabled\n",
      "TranscriptsDisabled\n",
      "TranscriptsDisabled\n",
      "TranscriptsDisabled\n",
      "TranscriptsDisabled\n",
      "TranscriptsDisabled\n",
      "TranscriptsDisabled\n",
      "TranscriptsDisabled\n",
      "TranscriptsDisabled\n",
      "TranscriptsDisabled\n",
      "TranscriptsDisabled\n",
      "TranscriptsDisabled\n",
      "TranscriptsDisabled\n",
      "TranscriptsDisabled\n",
      "TranscriptsDisabled\n",
      "TranscriptsDisabled\n",
      "TranscriptsDisabled\n",
      "TranscriptsDisabled\n",
      "TranscriptsDisabled\n",
      "TranscriptsDisabled\n",
      "TranscriptsDisabled\n"
     ]
    }
   ],
   "source": [
    "files_path = 'C:\\Speech2Text\\text&audio'                         \n",
    "\n",
    "for i in range(0, len(VideoId_list)):\n",
    "    id = (VideoId_list[i])\n",
    "    a = []\n",
    "    try:\n",
    "        srt = YouTubeTranscriptApi.get_transcript(id)    #enetr here\n",
    "        mypath = (video_titles[i]) \n",
    "        Audiofile_name = (video_titles[i])\n",
    "        if not os.path.isdir(mypath):\n",
    "            os.makedirs(mypath)\n",
    "        with open(os.path.join(mypath,(video_titles[i])+ '.txt'), 'r') as text:\n",
    "            for i in srt:\n",
    "                for newtext in text:\n",
    "                    a.append(eval(newtext[:-1]))\n",
    "\n",
    "            for j in range(0,len(a)):\n",
    "                startSec = (a[j][\"start\"])\n",
    "                startTime = startSec*1000\n",
    "                endSec = (a[j+1][\"start\"])\n",
    "                endTime = endSec*1000\n",
    "                print(startTime)\n",
    "\n",
    "                # Opening file and extracting segment\n",
    "                song = AudioSegment.from_file(Audiofile_name+'.mp4' )\n",
    "                extract = song[startTime+211:endTime+220.0]      # check here when required\n",
    "\n",
    "                # Saving\n",
    "                extract.export(os.path.join(mypath,Audiofile_name+'%s.wav'%j), format=\"wav\") \n",
    "        print('Sentence wise wav file Created!')\n",
    "    except:\n",
    "        print(\"TranscriptsDisabled\")"
   ]
  },
  {
   "cell_type": "code",
   "execution_count": null,
   "id": "a25707b8",
   "metadata": {},
   "outputs": [],
   "source": []
  }
 ],
 "metadata": {
  "kernelspec": {
   "display_name": "Python 3",
   "language": "python",
   "name": "python3"
  },
  "language_info": {
   "codemirror_mode": {
    "name": "ipython",
    "version": 3
   },
   "file_extension": ".py",
   "mimetype": "text/x-python",
   "name": "python",
   "nbconvert_exporter": "python",
   "pygments_lexer": "ipython3",
   "version": "3.8.8"
  }
 },
 "nbformat": 4,
 "nbformat_minor": 5
}
